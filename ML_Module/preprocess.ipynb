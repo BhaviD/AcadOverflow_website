{
  "nbformat": 4,
  "nbformat_minor": 0,
  "metadata": {
    "kernelspec": {
      "language": "python",
      "display_name": "Python 3",
      "name": "python3"
    },
    "language_info": {
      "pygments_lexer": "ipython3",
      "nbconvert_exporter": "python",
      "version": "3.6.4",
      "file_extension": ".py",
      "codemirror_mode": {
        "name": "ipython",
        "version": 3
      },
      "name": "python",
      "mimetype": "text/x-python"
    },
    "colab": {
      "name": "preprocess.ipynb",
      "provenance": []
    }
  },
  "cells": [
    {
      "cell_type": "code",
      "metadata": {
        "trusted": true,
        "id": "yaraR-FczY4o",
        "colab_type": "code",
        "colab": {}
      },
      "source": [
        "import pandas as pd\n",
        "import numpy as np\n",
        "import spacy"
      ],
      "execution_count": 0,
      "outputs": []
    },
    {
      "cell_type": "markdown",
      "metadata": {
        "id": "E8PVWsmazY4u",
        "colab_type": "text"
      },
      "source": [
        "**Load Dataset**\n",
        "\n",
        "The dataset has been collected from **Google BigQuery dataset** . It includes an archive of Stack Overflow content, including posts, votes, tags, and badges.\n",
        "The dataset is available [here](https://https://www.kaggle.com/stackoverflow/stackoverflow)"
      ]
    },
    {
      "cell_type": "code",
      "metadata": {
        "trusted": true,
        "id": "NdrKgyI_zY4v",
        "colab_type": "code",
        "colab": {}
      },
      "source": [
        "EN = spacy.load('en_core_web_sm')\n",
        "df = pd.read_csv('Original_data.csv')"
      ],
      "execution_count": 0,
      "outputs": []
    },
    {
      "cell_type": "markdown",
      "metadata": {
        "id": "O_ZpxO2MzY41",
        "colab_type": "text"
      },
      "source": [
        "Our Dataset consists of following columns :\n",
        "* id\n",
        "* title (ques title)\n",
        "* body (question)\n",
        "* tags (associated tags)\n",
        "* answers\n",
        "* score\n"
      ]
    },
    {
      "cell_type": "code",
      "metadata": {
        "trusted": true,
        "id": "SiY5JfDZzY42",
        "colab_type": "code",
        "outputId": "e53b3d7c-9373-4956-eaf7-3ea215017791",
        "colab": {}
      },
      "source": [
        "df.head()"
      ],
      "execution_count": 0,
      "outputs": [
        {
          "output_type": "execute_result",
          "data": {
            "text/plain": [
              "   Unnamed: 0        id                                              title  \\\n",
              "0           0  17869101                 Unable to install Pygame using pip   \n",
              "1           1  27567208  How do I open sub window after I click on butt...   \n",
              "2           2  31172719               pip install access denied on Windows   \n",
              "3           3   1545606                           Python k-means algorithm   \n",
              "4           4   6707398  ValueError when using strptime to get a dateti...   \n",
              "\n",
              "                                                body  \\\n",
              "0  <p>I'm trying to install Pygame. I am running ...   \n",
              "1  <p>HI I am trying to make a simple converter.\\...   \n",
              "2  <p>I am trying to run <code>pip install mitmpr...   \n",
              "3  <p>I am looking for Python implementation of k...   \n",
              "4  <p>Im trying to convert a date string to a dat...   \n",
              "\n",
              "                                        tags  \\\n",
              "0                  python|pygame|install|pip   \n",
              "1                python|user-interface|pyqt4   \n",
              "2           python|windows|pip|access-denied   \n",
              "3  python|algorithm|cluster-analysis|k-means   \n",
              "4                            python|datetime   \n",
              "\n",
              "                                             answers  score  \n",
              "0  <p>Try doing this:</p>\\n\\n<pre><code>sudo apt-...     19  \n",
              "1  <p>Make two programs: <b>main_win.py </b>  and...     -2  \n",
              "2  <p>One additional thing that has not been cove...     12  \n",
              "3  <p><a href=\"http://docs.scipy.org/doc/scipy/re...     54  \n",
              "4  <pre><code>&gt;&gt;&gt; datetime.datetime.strp...     -5  "
            ],
            "text/html": [
              "<div>\n",
              "<style scoped>\n",
              "    .dataframe tbody tr th:only-of-type {\n",
              "        vertical-align: middle;\n",
              "    }\n",
              "\n",
              "    .dataframe tbody tr th {\n",
              "        vertical-align: top;\n",
              "    }\n",
              "\n",
              "    .dataframe thead th {\n",
              "        text-align: right;\n",
              "    }\n",
              "</style>\n",
              "<table border=\"1\" class=\"dataframe\">\n",
              "  <thead>\n",
              "    <tr style=\"text-align: right;\">\n",
              "      <th></th>\n",
              "      <th>Unnamed: 0</th>\n",
              "      <th>id</th>\n",
              "      <th>title</th>\n",
              "      <th>body</th>\n",
              "      <th>tags</th>\n",
              "      <th>answers</th>\n",
              "      <th>score</th>\n",
              "    </tr>\n",
              "  </thead>\n",
              "  <tbody>\n",
              "    <tr>\n",
              "      <th>0</th>\n",
              "      <td>0</td>\n",
              "      <td>17869101</td>\n",
              "      <td>Unable to install Pygame using pip</td>\n",
              "      <td>&lt;p&gt;I'm trying to install Pygame. I am running ...</td>\n",
              "      <td>python|pygame|install|pip</td>\n",
              "      <td>&lt;p&gt;Try doing this:&lt;/p&gt;\\n\\n&lt;pre&gt;&lt;code&gt;sudo apt-...</td>\n",
              "      <td>19</td>\n",
              "    </tr>\n",
              "    <tr>\n",
              "      <th>1</th>\n",
              "      <td>1</td>\n",
              "      <td>27567208</td>\n",
              "      <td>How do I open sub window after I click on butt...</td>\n",
              "      <td>&lt;p&gt;HI I am trying to make a simple converter.\\...</td>\n",
              "      <td>python|user-interface|pyqt4</td>\n",
              "      <td>&lt;p&gt;Make two programs: &lt;b&gt;main_win.py &lt;/b&gt;  and...</td>\n",
              "      <td>-2</td>\n",
              "    </tr>\n",
              "    <tr>\n",
              "      <th>2</th>\n",
              "      <td>2</td>\n",
              "      <td>31172719</td>\n",
              "      <td>pip install access denied on Windows</td>\n",
              "      <td>&lt;p&gt;I am trying to run &lt;code&gt;pip install mitmpr...</td>\n",
              "      <td>python|windows|pip|access-denied</td>\n",
              "      <td>&lt;p&gt;One additional thing that has not been cove...</td>\n",
              "      <td>12</td>\n",
              "    </tr>\n",
              "    <tr>\n",
              "      <th>3</th>\n",
              "      <td>3</td>\n",
              "      <td>1545606</td>\n",
              "      <td>Python k-means algorithm</td>\n",
              "      <td>&lt;p&gt;I am looking for Python implementation of k...</td>\n",
              "      <td>python|algorithm|cluster-analysis|k-means</td>\n",
              "      <td>&lt;p&gt;&lt;a href=\"http://docs.scipy.org/doc/scipy/re...</td>\n",
              "      <td>54</td>\n",
              "    </tr>\n",
              "    <tr>\n",
              "      <th>4</th>\n",
              "      <td>4</td>\n",
              "      <td>6707398</td>\n",
              "      <td>ValueError when using strptime to get a dateti...</td>\n",
              "      <td>&lt;p&gt;Im trying to convert a date string to a dat...</td>\n",
              "      <td>python|datetime</td>\n",
              "      <td>&lt;pre&gt;&lt;code&gt;&amp;gt;&amp;gt;&amp;gt; datetime.datetime.strp...</td>\n",
              "      <td>-5</td>\n",
              "    </tr>\n",
              "  </tbody>\n",
              "</table>\n",
              "</div>"
            ]
          },
          "metadata": {
            "tags": []
          },
          "execution_count": 11
        }
      ]
    },
    {
      "cell_type": "markdown",
      "metadata": {
        "id": "cV0djRG5zY4-",
        "colab_type": "text"
      },
      "source": [
        "Size of dataset is"
      ]
    },
    {
      "cell_type": "code",
      "metadata": {
        "trusted": true,
        "id": "Jt-MwfpPzY4_",
        "colab_type": "code",
        "outputId": "6ec27767-7a32-4924-b266-52391a4d3d98",
        "colab": {}
      },
      "source": [
        "print(df.shape)"
      ],
      "execution_count": 0,
      "outputs": [
        {
          "output_type": "stream",
          "text": [
            "(500000, 7)\n"
          ],
          "name": "stdout"
        }
      ]
    },
    {
      "cell_type": "markdown",
      "metadata": {
        "id": "7X7DGdRLzY5E",
        "colab_type": "text"
      },
      "source": [
        "There may be some questions which are common, so we will concatenate those answers on the basis of common tags. And we will also add the scores to get the collective score. "
      ]
    },
    {
      "cell_type": "code",
      "metadata": {
        "trusted": true,
        "id": "aEYeZg4dzY5F",
        "colab_type": "code",
        "colab": {}
      },
      "source": [
        "aggregations = {\n",
        "    'answers':{\n",
        "        'combined_answers': lambda x: \"\\n\".join(x)\n",
        "    },\n",
        "    'score':{\n",
        "        'combined_score': 'sum'\n",
        "    }\n",
        "}\n",
        "\n",
        "grouped = df.groupby(['id','title', 'body','tags'],as_index=False).agg(aggregations)\n",
        "deduped_df = pd.DataFrame(grouped)"
      ],
      "execution_count": 0,
      "outputs": []
    },
    {
      "cell_type": "markdown",
      "metadata": {
        "id": "2qY7FpOnzY5N",
        "colab_type": "text"
      },
      "source": [
        "**Updated Dataset**\n",
        "\n",
        "Dataset after applying the above aggregation function"
      ]
    },
    {
      "cell_type": "code",
      "metadata": {
        "trusted": true,
        "id": "-3zYDT6jzY5O",
        "colab_type": "code",
        "outputId": "45f4cf4c-6844-4b86-d900-c06a5605cf63",
        "colab": {}
      },
      "source": [
        "deduped_df.head()"
      ],
      "execution_count": 0,
      "outputs": [
        {
          "output_type": "execute_result",
          "data": {
            "text/plain": [
              "     id                                              title  \\\n",
              "                                                             \n",
              "0   469  How can I find the full path to a font from it...   \n",
              "1   773                  How do I use itertools.groupby()?   \n",
              "2  1171  What is the most efficient graph data structur...   \n",
              "3  5136  Does anyone have experience creating a shared ...   \n",
              "4  5966      Best way to abstract season/show/episode data   \n",
              "\n",
              "                                                body  \\\n",
              "                                                       \n",
              "0  <p>I am using the Photoshop's javascript API t...   \n",
              "1  <p>I haven't been able to find an understandab...   \n",
              "2  <p>I need to be able to manipulate a large (10...   \n",
              "3  <p>A researcher has created a small simulation...   \n",
              "4  <p>Basically, I've written an API to www.thetv...   \n",
              "\n",
              "                                              tags  \\\n",
              "                                                     \n",
              "0                     python|macos|fonts|photoshop   \n",
              "1                                 python|iteration   \n",
              "2  python|performance|data-structures|graph-theory   \n",
              "3                                  python|c|matlab   \n",
              "4                           python|data-structures   \n",
              "\n",
              "                                             answers          score  \n",
              "                                    combined_answers combined_score  \n",
              "0  <p>There must be a method in Cocoa to get a li...             39  \n",
              "1  <p><strong>IMPORTANT NOTE:</strong> You have t...            847  \n",
              "2  <p>Even though this question is now quite old,...             81  \n",
              "3  <p>I won't help much but I remember that I was...             11  \n",
              "4  <p>I have done something similar in the past a...              8  "
            ],
            "text/html": [
              "<div>\n",
              "<style scoped>\n",
              "    .dataframe tbody tr th:only-of-type {\n",
              "        vertical-align: middle;\n",
              "    }\n",
              "\n",
              "    .dataframe tbody tr th {\n",
              "        vertical-align: top;\n",
              "    }\n",
              "\n",
              "    .dataframe thead tr th {\n",
              "        text-align: left;\n",
              "    }\n",
              "</style>\n",
              "<table border=\"1\" class=\"dataframe\">\n",
              "  <thead>\n",
              "    <tr>\n",
              "      <th></th>\n",
              "      <th>id</th>\n",
              "      <th>title</th>\n",
              "      <th>body</th>\n",
              "      <th>tags</th>\n",
              "      <th>answers</th>\n",
              "      <th>score</th>\n",
              "    </tr>\n",
              "    <tr>\n",
              "      <th></th>\n",
              "      <th></th>\n",
              "      <th></th>\n",
              "      <th></th>\n",
              "      <th></th>\n",
              "      <th>combined_answers</th>\n",
              "      <th>combined_score</th>\n",
              "    </tr>\n",
              "  </thead>\n",
              "  <tbody>\n",
              "    <tr>\n",
              "      <th>0</th>\n",
              "      <td>469</td>\n",
              "      <td>How can I find the full path to a font from it...</td>\n",
              "      <td>&lt;p&gt;I am using the Photoshop's javascript API t...</td>\n",
              "      <td>python|macos|fonts|photoshop</td>\n",
              "      <td>&lt;p&gt;There must be a method in Cocoa to get a li...</td>\n",
              "      <td>39</td>\n",
              "    </tr>\n",
              "    <tr>\n",
              "      <th>1</th>\n",
              "      <td>773</td>\n",
              "      <td>How do I use itertools.groupby()?</td>\n",
              "      <td>&lt;p&gt;I haven't been able to find an understandab...</td>\n",
              "      <td>python|iteration</td>\n",
              "      <td>&lt;p&gt;&lt;strong&gt;IMPORTANT NOTE:&lt;/strong&gt; You have t...</td>\n",
              "      <td>847</td>\n",
              "    </tr>\n",
              "    <tr>\n",
              "      <th>2</th>\n",
              "      <td>1171</td>\n",
              "      <td>What is the most efficient graph data structur...</td>\n",
              "      <td>&lt;p&gt;I need to be able to manipulate a large (10...</td>\n",
              "      <td>python|performance|data-structures|graph-theory</td>\n",
              "      <td>&lt;p&gt;Even though this question is now quite old,...</td>\n",
              "      <td>81</td>\n",
              "    </tr>\n",
              "    <tr>\n",
              "      <th>3</th>\n",
              "      <td>5136</td>\n",
              "      <td>Does anyone have experience creating a shared ...</td>\n",
              "      <td>&lt;p&gt;A researcher has created a small simulation...</td>\n",
              "      <td>python|c|matlab</td>\n",
              "      <td>&lt;p&gt;I won't help much but I remember that I was...</td>\n",
              "      <td>11</td>\n",
              "    </tr>\n",
              "    <tr>\n",
              "      <th>4</th>\n",
              "      <td>5966</td>\n",
              "      <td>Best way to abstract season/show/episode data</td>\n",
              "      <td>&lt;p&gt;Basically, I've written an API to www.thetv...</td>\n",
              "      <td>python|data-structures</td>\n",
              "      <td>&lt;p&gt;I have done something similar in the past a...</td>\n",
              "      <td>8</td>\n",
              "    </tr>\n",
              "  </tbody>\n",
              "</table>\n",
              "</div>"
            ]
          },
          "metadata": {
            "tags": []
          },
          "execution_count": 14
        }
      ]
    },
    {
      "cell_type": "markdown",
      "metadata": {
        "id": "R9_KoB1A0591",
        "colab_type": "text"
      },
      "source": [
        "\n",
        "The data here is given along with the HTML markup eg. p tags, h1-h6 tags and the code tags. We will remove those in text processing. \n",
        "\n",
        "We have constructed a new column 'post_corpus' by combining the title, question body, and all the answers.\n",
        "\n",
        "We have also prepended the title to the question body. \n",
        "\n",
        "We have also constructed urls for each question. \n",
        "\n",
        "And we have 2 features for sentiment using the open Source Textblob library"
      ]
    },
    {
      "cell_type": "code",
      "metadata": {
        "trusted": true,
        "id": "9rcoyRYazY5Z",
        "colab_type": "code",
        "colab": {}
      },
      "source": [
        "from bs4 import BeautifulSoup\n",
        "from textblob import TextBlob\n",
        "\n",
        "title_list = [] \n",
        "content_list = []\n",
        "url_list = []\n",
        "comment_list = []\n",
        "sentiment_polarity_list = []\n",
        "sentiment_subjectivity_list = []\n",
        "vote_list =[]\n",
        "tag_list = []\n",
        "corpus_list = []\n",
        "\n",
        "for i, row in deduped_df.iterrows():\n",
        "    title_list.append(row.title.values[0])    # Get question title\n",
        "    tag_list.append(row.tags.values[0])     # Get question tags\n",
        "    \n",
        "    # Questions\n",
        "    content = row.body.values[0]\n",
        "    soup = BeautifulSoup(content, 'lxml')\n",
        "    if soup.code: soup.code.decompose()     # Remove the code section\n",
        "    tag_p = soup.p\n",
        "    tag_pre = soup.pre\n",
        "    text = ''\n",
        "    if tag_p: text = text + tag_p.get_text()\n",
        "    if tag_pre: text = text + tag_pre.get_text()\n",
        "        \n",
        "    content_list.append(str(row.title.values[0]) + ' ' + str(text))   # Append title and question body data to the updated question body\n",
        "    \n",
        "    url_list.append('https://stackoverflow.com/questions/' + str(row.id.values[0]))\n",
        "    \n",
        "    # Answers\n",
        "    content = row.answers.values[0]\n",
        "    soup = BeautifulSoup(content, 'lxml')\n",
        "    if soup.code: soup.code.decompose()\n",
        "    tag_p = soup.p\n",
        "    tag_pre = soup.pre\n",
        "    text = ''\n",
        "    if tag_p: text = text + tag_p.get_text()\n",
        "    if tag_pre: text = text + tag_pre.get_text()\n",
        "    comment_list.append(text)\n",
        "    \n",
        "    vote_list.append(row.score.values[0])       # Append votes\n",
        "    \n",
        "    corpus_list.append(content_list[-1] + ' ' + comment_list[-1])     # Combine the updated body and answers to make the corpus\n",
        "    \n",
        "    sentiment = TextBlob(row.answers.values[0]).sentiment\n",
        "    sentiment_polarity_list.append(sentiment.polarity)\n",
        "    sentiment_subjectivity_list.append(sentiment.subjectivity)\n",
        "\n",
        "content_token_df = pd.DataFrame({'original_title': title_list, 'post_corpus': corpus_list, 'question_content': content_list, 'question_url': url_list, 'tags': tag_list, 'overall_scores':vote_list,'answers_content': comment_list, 'sentiment_polarity': sentiment_polarity_list, 'sentiment_subjectivity':sentiment_subjectivity_list})"
      ],
      "execution_count": 0,
      "outputs": []
    },
    {
      "cell_type": "code",
      "metadata": {
        "trusted": true,
        "id": "J_ycyjb_zY5i",
        "colab_type": "code",
        "outputId": "d2513d49-926c-4159-e510-6493e8a16fd0",
        "colab": {}
      },
      "source": [
        "content_token_df.iloc[1]"
      ],
      "execution_count": 0,
      "outputs": [
        {
          "output_type": "execute_result",
          "data": {
            "text/plain": [
              "original_title                            How do I use itertools.groupby()?\n",
              "post_corpus               How do I use itertools.groupby()? I haven't be...\n",
              "question_content          How do I use itertools.groupby()? I haven't be...\n",
              "question_url                        https://stackoverflow.com/questions/773\n",
              "tags                                                    [python, iteration]\n",
              "overall_scores                                                          847\n",
              "answers_content           IMPORTANT NOTE: You have to sort your data first.\n",
              "sentiment_polarity                                                -0.137932\n",
              "sentiment_subjectivity                                             0.737756\n",
              "Name: 1, dtype: object"
            ]
          },
          "metadata": {
            "tags": []
          },
          "execution_count": 30
        }
      ]
    },
    {
      "cell_type": "markdown",
      "metadata": {
        "id": "sdE_XOgj24tC",
        "colab_type": "text"
      },
      "source": [
        "**Filter tags**\n",
        "\n",
        "Now there are many tags assoicated with the questions. Here we are considering only top 200 tags. We will count the frequencies of the questions with a particular tag and then we will select top 200 tags."
      ]
    },
    {
      "cell_type": "code",
      "metadata": {
        "trusted": true,
        "id": "gBZuxt1nzY5s",
        "colab_type": "code",
        "colab": {}
      },
      "source": [
        "content_token_df.tags = content_token_df.tags.apply(lambda x: x.split('|'))   # Convert raw text data of tags into lists\n",
        "\n",
        "# Make a dictionary to count the frequencies for all tags\n",
        "tag_freq_dict = {}\n",
        "for tags in content_token_df.tags:\n",
        "    for tag in tags:\n",
        "        if tag not in tag_freq_dict:\n",
        "            tag_freq_dict[tag] = 0\n",
        "        else:\n",
        "            tag_freq_dict[tag] += 1"
      ],
      "execution_count": 0,
      "outputs": []
    },
    {
      "cell_type": "code",
      "metadata": {
        "trusted": true,
        "id": "_e7Jwma2zY5x",
        "colab_type": "code",
        "colab": {}
      },
      "source": [
        "import heapq\n",
        "most_common_tags = heapq.nlargest(200, tag_freq_dict, key=tag_freq_dict.get)"
      ],
      "execution_count": 0,
      "outputs": []
    },
    {
      "cell_type": "code",
      "metadata": {
        "trusted": true,
        "id": "HfEVkuqnzY51",
        "colab_type": "code",
        "outputId": "7ef875fc-385a-42dc-9eeb-449c9ef4238f",
        "colab": {}
      },
      "source": [
        "most_common_tags[0:30]"
      ],
      "execution_count": 0,
      "outputs": [
        {
          "output_type": "execute_result",
          "data": {
            "text/plain": [
              "['python',\n",
              " 'python-3.x',\n",
              " 'pandas',\n",
              " 'django',\n",
              " 'python-2.7',\n",
              " 'numpy',\n",
              " 'list',\n",
              " 'matplotlib',\n",
              " 'dataframe',\n",
              " 'dictionary',\n",
              " 'regex',\n",
              " 'tkinter',\n",
              " 'string',\n",
              " 'flask',\n",
              " 'csv',\n",
              " 'arrays',\n",
              " 'tensorflow',\n",
              " 'json',\n",
              " 'beautifulsoup',\n",
              " 'selenium',\n",
              " 'html',\n",
              " 'web-scraping',\n",
              " 'google-app-engine',\n",
              " 'machine-learning',\n",
              " 'mysql',\n",
              " 'opencv',\n",
              " 'scipy',\n",
              " 'scikit-learn',\n",
              " 'function',\n",
              " 'linux']"
            ]
          },
          "metadata": {
            "tags": []
          },
          "execution_count": 27
        }
      ]
    },
    {
      "cell_type": "code",
      "metadata": {
        "trusted": true,
        "id": "3eAwaOBhzY55",
        "colab_type": "code",
        "colab": {}
      },
      "source": [
        "final_indices = []\n",
        "for i,tags in enumerate(content_token_df.tags.values.tolist()):\n",
        "    if len(set(tags).intersection(set(most_common_tags)))>1:   # The minimum length for common tags should be 2 because 'python' is a common tag for all\n",
        "        final_indices.append(i)\n"
      ],
      "execution_count": 0,
      "outputs": []
    },
    {
      "cell_type": "code",
      "metadata": {
        "trusted": true,
        "id": "0b6azOsLzY59",
        "colab_type": "code",
        "colab": {}
      },
      "source": [
        "final_data = content_token_df.iloc[final_indices]"
      ],
      "execution_count": 0,
      "outputs": []
    },
    {
      "cell_type": "markdown",
      "metadata": {
        "id": "EtOcOXMRzY5U",
        "colab_type": "text"
      },
      "source": [
        "Text Preprocessing\n",
        "1. Tokenisation\n",
        "2. Lower Case\n",
        "3. Remove stopwords, punctuation"
      ]
    },
    {
      "cell_type": "code",
      "metadata": {
        "trusted": true,
        "id": "D6L05lDHzY5V",
        "colab_type": "code",
        "colab": {}
      },
      "source": [
        "import nltk\n",
        "import re\n",
        "from nltk.corpus import stopwords\n",
        "\n",
        "def tokenize_text(text):\n",
        "    tokens = EN.tokenizer(text)\n",
        "    return [token.text.lower() for token in tokens if not token.is_space]\n",
        "\n",
        "def to_lowercase(words):\n",
        "    new_words = []\n",
        "    for word in words:\n",
        "        new_word = word.lower()\n",
        "        new_words.append(new_word)\n",
        "    return new_words\n",
        "\n",
        "def remove_punctuation(words):\n",
        "    new_words = []\n",
        "    for word in words:\n",
        "        new_word = re.sub(r'[^\\w\\s]', '', word)\n",
        "        if new_word != '':\n",
        "            new_words.append(new_word)\n",
        "    return new_words\n",
        "\n",
        "def remove_stopwords(words):\n",
        "    new_words = []\n",
        "    for word in words:\n",
        "        if word not in stopwords.words('english'):\n",
        "            new_words.append(word)\n",
        "    return new_words\n",
        "\n",
        "def normalize(words):\n",
        "    words = to_lowercase(words)\n",
        "    words = remove_punctuation(words)\n",
        "    words = remove_stopwords(words)\n",
        "    return words\n",
        "\n",
        "def tokenize_code(text):\n",
        "    return RegexpTokenizer(r'\\w+').tokenize(text)\n",
        "\n",
        "def preprocess_text(text):\n",
        "    return ' '.join(normalize(tokenize_text(text)))"
      ],
      "execution_count": 0,
      "outputs": []
    },
    {
      "cell_type": "code",
      "metadata": {
        "trusted": true,
        "id": "gpOl8o-jzY6B",
        "colab_type": "code",
        "colab": {}
      },
      "source": [
        "import spacy\n",
        "EN = spacy.load('en_core_web_sm')\n",
        "\n",
        "# Preprocess text for 'question_body', 'post_corpus' and a new column 'processed_title'\n",
        "final_data.question_content = final_data.question_content.apply(lambda x: preprocess_text(x))\n",
        "final_data.post_corpus = final_data.post_corpus.apply(lambda x: preprocess_text(x))\n",
        "final_data['processed_title'] = final_data.original_title.apply(lambda x: preprocess_text(x))\n",
        "\n",
        "# Normalize numeric data for the scores\n",
        "final_data.overall_scores = (final_data.overall_scores - final_data.overall_scores.mean()) / (final_data.overall_scores.max() - final_data.overall_scores.min())"
      ],
      "execution_count": 0,
      "outputs": []
    },
    {
      "cell_type": "code",
      "metadata": {
        "trusted": true,
        "id": "FdJvF2IGzY6L",
        "colab_type": "code",
        "outputId": "d4b6b022-3868-4f02-acd0-ccdde164d22b",
        "colab": {}
      },
      "source": [
        "final_data.tags = final_data.tags.apply(lambda x: '|'.join(x))    # Combine the lists back into text data\n",
        "final_data.drop(['answers_content'], axis = 1)     # Remove the answers_content columns"
      ],
      "execution_count": 0,
      "outputs": [
        {
          "output_type": "execute_result",
          "data": {
            "text/plain": [
              "                                           original_title  \\\n",
              "0       How can I find the full path to a font from it...   \n",
              "1                       How do I use itertools.groupby()?   \n",
              "2       What is the most efficient graph data structur...   \n",
              "3       Does anyone have experience creating a shared ...   \n",
              "5                How should I unit test a code-generator?   \n",
              "...                                                   ...   \n",
              "290887  How to reference a specific part of a dictiona...   \n",
              "290888  Permission Error: [Errno 1] Operation Not perm...   \n",
              "290889         what is the Error in int object iteration?   \n",
              "290890  Python creating objects in a loop append items...   \n",
              "290891  How to check if all numbers in a nested list a...   \n",
              "\n",
              "                                              post_corpus  \\\n",
              "0       find full path font display name mac using pho...   \n",
              "1       use itertoolsgroupby nt able find understandab...   \n",
              "2       efficient graph data structure python need abl...   \n",
              "3       anyone experience creating shared library matl...   \n",
              "5       unit test code generator difficult open ended ...   \n",
              "...                                                   ...   \n",
              "290887  reference specific part dictionary python alri...   \n",
              "290888  permission error errno 1 operation permitted t...   \n",
              "290889  error int object iteration int object subscrip...   \n",
              "290890  python creating objects loop append items list...   \n",
              "290891  check numbers nested list equal n want encode ...   \n",
              "\n",
              "                                         question_content  \\\n",
              "0       find full path font display name mac using pho...   \n",
              "1       use itertoolsgroupby nt able find understandab...   \n",
              "2       efficient graph data structure python need abl...   \n",
              "3       anyone experience creating shared library matl...   \n",
              "5       unit test code generator difficult open ended ...   \n",
              "...                                                   ...   \n",
              "290887  reference specific part dictionary python alri...   \n",
              "290888  permission error errno 1 operation permitted t...   \n",
              "290889  error int object iteration int object subscrip...   \n",
              "290890  python creating objects loop append items list...   \n",
              "290891  check numbers nested list equal n want encode ...   \n",
              "\n",
              "                                        question_url  \\\n",
              "0            https://stackoverflow.com/questions/469   \n",
              "1            https://stackoverflow.com/questions/773   \n",
              "2           https://stackoverflow.com/questions/1171   \n",
              "3           https://stackoverflow.com/questions/5136   \n",
              "5          https://stackoverflow.com/questions/11060   \n",
              "...                                              ...   \n",
              "290887  https://stackoverflow.com/questions/59122330   \n",
              "290888  https://stackoverflow.com/questions/59122425   \n",
              "290889  https://stackoverflow.com/questions/59122649   \n",
              "290890  https://stackoverflow.com/questions/59122774   \n",
              "290891  https://stackoverflow.com/questions/59122912   \n",
              "\n",
              "                                                   tags  overall_scores  \\\n",
              "0                          python|macos|fonts|photoshop        0.004447   \n",
              "1                                      python|iteration        0.112598   \n",
              "2       python|performance|data-structures|graph-theory        0.010068   \n",
              "3                                       python|c|matlab        0.000699   \n",
              "5          c++|python|unit-testing|code-generation|swig        0.001502   \n",
              "...                                                 ...             ...   \n",
              "290887                python|dictionary|rotten-tomatoes       -0.000238   \n",
              "290888                               python|pyinstaller       -0.000773   \n",
              "290889                                python|object|int       -0.000773   \n",
              "290890                         python|list|loops|object       -0.000506   \n",
              "290891              python|python-3.x|list|rgb|mutation       -0.000640   \n",
              "\n",
              "        sentiment_polarity  sentiment_subjectivity  \\\n",
              "0                 0.116667                0.554167   \n",
              "1                -0.137932                0.737756   \n",
              "2                 0.179258                0.511521   \n",
              "3                 0.268590                0.515934   \n",
              "5                 0.122062                0.408964   \n",
              "...                    ...                     ...   \n",
              "290887            0.125000                0.516667   \n",
              "290888            0.050000                0.541111   \n",
              "290889            0.083333                0.309630   \n",
              "290890            0.167929                0.478283   \n",
              "290891            0.125000                0.395833   \n",
              "\n",
              "                                          processed_title  \n",
              "0                    find full path font display name mac  \n",
              "1                                    use itertoolsgroupby  \n",
              "2                   efficient graph data structure python  \n",
              "3        anyone experience creating shared library matlab  \n",
              "5                                unit test code generator  \n",
              "...                                                   ...  \n",
              "290887          reference specific part dictionary python  \n",
              "290888       permission error errno 1 operation permitted  \n",
              "290889                         error int object iteration  \n",
              "290890  python creating objects loop append items list...  \n",
              "290891                  check numbers nested list equal n  \n",
              "\n",
              "[227687 rows x 9 columns]"
            ],
            "text/html": [
              "<div>\n",
              "<style scoped>\n",
              "    .dataframe tbody tr th:only-of-type {\n",
              "        vertical-align: middle;\n",
              "    }\n",
              "\n",
              "    .dataframe tbody tr th {\n",
              "        vertical-align: top;\n",
              "    }\n",
              "\n",
              "    .dataframe thead th {\n",
              "        text-align: right;\n",
              "    }\n",
              "</style>\n",
              "<table border=\"1\" class=\"dataframe\">\n",
              "  <thead>\n",
              "    <tr style=\"text-align: right;\">\n",
              "      <th></th>\n",
              "      <th>original_title</th>\n",
              "      <th>post_corpus</th>\n",
              "      <th>question_content</th>\n",
              "      <th>question_url</th>\n",
              "      <th>tags</th>\n",
              "      <th>overall_scores</th>\n",
              "      <th>sentiment_polarity</th>\n",
              "      <th>sentiment_subjectivity</th>\n",
              "      <th>processed_title</th>\n",
              "    </tr>\n",
              "  </thead>\n",
              "  <tbody>\n",
              "    <tr>\n",
              "      <th>0</th>\n",
              "      <td>How can I find the full path to a font from it...</td>\n",
              "      <td>find full path font display name mac using pho...</td>\n",
              "      <td>find full path font display name mac using pho...</td>\n",
              "      <td>https://stackoverflow.com/questions/469</td>\n",
              "      <td>python|macos|fonts|photoshop</td>\n",
              "      <td>0.004447</td>\n",
              "      <td>0.116667</td>\n",
              "      <td>0.554167</td>\n",
              "      <td>find full path font display name mac</td>\n",
              "    </tr>\n",
              "    <tr>\n",
              "      <th>1</th>\n",
              "      <td>How do I use itertools.groupby()?</td>\n",
              "      <td>use itertoolsgroupby nt able find understandab...</td>\n",
              "      <td>use itertoolsgroupby nt able find understandab...</td>\n",
              "      <td>https://stackoverflow.com/questions/773</td>\n",
              "      <td>python|iteration</td>\n",
              "      <td>0.112598</td>\n",
              "      <td>-0.137932</td>\n",
              "      <td>0.737756</td>\n",
              "      <td>use itertoolsgroupby</td>\n",
              "    </tr>\n",
              "    <tr>\n",
              "      <th>2</th>\n",
              "      <td>What is the most efficient graph data structur...</td>\n",
              "      <td>efficient graph data structure python need abl...</td>\n",
              "      <td>efficient graph data structure python need abl...</td>\n",
              "      <td>https://stackoverflow.com/questions/1171</td>\n",
              "      <td>python|performance|data-structures|graph-theory</td>\n",
              "      <td>0.010068</td>\n",
              "      <td>0.179258</td>\n",
              "      <td>0.511521</td>\n",
              "      <td>efficient graph data structure python</td>\n",
              "    </tr>\n",
              "    <tr>\n",
              "      <th>3</th>\n",
              "      <td>Does anyone have experience creating a shared ...</td>\n",
              "      <td>anyone experience creating shared library matl...</td>\n",
              "      <td>anyone experience creating shared library matl...</td>\n",
              "      <td>https://stackoverflow.com/questions/5136</td>\n",
              "      <td>python|c|matlab</td>\n",
              "      <td>0.000699</td>\n",
              "      <td>0.268590</td>\n",
              "      <td>0.515934</td>\n",
              "      <td>anyone experience creating shared library matlab</td>\n",
              "    </tr>\n",
              "    <tr>\n",
              "      <th>5</th>\n",
              "      <td>How should I unit test a code-generator?</td>\n",
              "      <td>unit test code generator difficult open ended ...</td>\n",
              "      <td>unit test code generator difficult open ended ...</td>\n",
              "      <td>https://stackoverflow.com/questions/11060</td>\n",
              "      <td>c++|python|unit-testing|code-generation|swig</td>\n",
              "      <td>0.001502</td>\n",
              "      <td>0.122062</td>\n",
              "      <td>0.408964</td>\n",
              "      <td>unit test code generator</td>\n",
              "    </tr>\n",
              "    <tr>\n",
              "      <th>...</th>\n",
              "      <td>...</td>\n",
              "      <td>...</td>\n",
              "      <td>...</td>\n",
              "      <td>...</td>\n",
              "      <td>...</td>\n",
              "      <td>...</td>\n",
              "      <td>...</td>\n",
              "      <td>...</td>\n",
              "      <td>...</td>\n",
              "    </tr>\n",
              "    <tr>\n",
              "      <th>290887</th>\n",
              "      <td>How to reference a specific part of a dictiona...</td>\n",
              "      <td>reference specific part dictionary python alri...</td>\n",
              "      <td>reference specific part dictionary python alri...</td>\n",
              "      <td>https://stackoverflow.com/questions/59122330</td>\n",
              "      <td>python|dictionary|rotten-tomatoes</td>\n",
              "      <td>-0.000238</td>\n",
              "      <td>0.125000</td>\n",
              "      <td>0.516667</td>\n",
              "      <td>reference specific part dictionary python</td>\n",
              "    </tr>\n",
              "    <tr>\n",
              "      <th>290888</th>\n",
              "      <td>Permission Error: [Errno 1] Operation Not perm...</td>\n",
              "      <td>permission error errno 1 operation permitted t...</td>\n",
              "      <td>permission error errno 1 operation permitted t...</td>\n",
              "      <td>https://stackoverflow.com/questions/59122425</td>\n",
              "      <td>python|pyinstaller</td>\n",
              "      <td>-0.000773</td>\n",
              "      <td>0.050000</td>\n",
              "      <td>0.541111</td>\n",
              "      <td>permission error errno 1 operation permitted</td>\n",
              "    </tr>\n",
              "    <tr>\n",
              "      <th>290889</th>\n",
              "      <td>what is the Error in int object iteration?</td>\n",
              "      <td>error int object iteration int object subscrip...</td>\n",
              "      <td>error int object iteration int object subscrip...</td>\n",
              "      <td>https://stackoverflow.com/questions/59122649</td>\n",
              "      <td>python|object|int</td>\n",
              "      <td>-0.000773</td>\n",
              "      <td>0.083333</td>\n",
              "      <td>0.309630</td>\n",
              "      <td>error int object iteration</td>\n",
              "    </tr>\n",
              "    <tr>\n",
              "      <th>290890</th>\n",
              "      <td>Python creating objects in a loop append items...</td>\n",
              "      <td>python creating objects loop append items list...</td>\n",
              "      <td>python creating objects loop append items list...</td>\n",
              "      <td>https://stackoverflow.com/questions/59122774</td>\n",
              "      <td>python|list|loops|object</td>\n",
              "      <td>-0.000506</td>\n",
              "      <td>0.167929</td>\n",
              "      <td>0.478283</td>\n",
              "      <td>python creating objects loop append items list...</td>\n",
              "    </tr>\n",
              "    <tr>\n",
              "      <th>290891</th>\n",
              "      <td>How to check if all numbers in a nested list a...</td>\n",
              "      <td>check numbers nested list equal n want encode ...</td>\n",
              "      <td>check numbers nested list equal n want encode ...</td>\n",
              "      <td>https://stackoverflow.com/questions/59122912</td>\n",
              "      <td>python|python-3.x|list|rgb|mutation</td>\n",
              "      <td>-0.000640</td>\n",
              "      <td>0.125000</td>\n",
              "      <td>0.395833</td>\n",
              "      <td>check numbers nested list equal n</td>\n",
              "    </tr>\n",
              "  </tbody>\n",
              "</table>\n",
              "<p>227687 rows × 9 columns</p>\n",
              "</div>"
            ]
          },
          "metadata": {
            "tags": []
          },
          "execution_count": 32
        }
      ]
    },
    {
      "cell_type": "code",
      "metadata": {
        "trusted": true,
        "id": "u77VNOF4zY6P",
        "colab_type": "code",
        "colab": {}
      },
      "source": [
        "final_data.to_csv('Preprocessed_data.csv', index=False)"
      ],
      "execution_count": 0,
      "outputs": []
    }
  ]
}